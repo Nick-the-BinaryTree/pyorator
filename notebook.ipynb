{
  "cells": [
    {
      "metadata": {
        "_uuid": "c19c281cf89e456bcfa21a8ea2da1228e7abc81b",
        "_cell_guid": "e861efd7-e19a-408c-9164-64fcd64a834d"
      },
      "cell_type": "markdown",
      "source": "Note: First notebook. Not a professional here."
    },
    {
      "metadata": {
        "_uuid": "78d916b3768ec0a57b50eb264bf66d2b4f702195",
        "_cell_guid": "3753c886-b29e-4929-803e-6cbb19adbbdb"
      },
      "cell_type": "markdown",
      "source": "# Preparing data"
    },
    {
      "metadata": {
        "_uuid": "faa44d863e049af047016a560baaf48902edbd94",
        "_cell_guid": "86cc9bc8-9614-4620-81c3-c8b25e44ecf2",
        "trusted": false,
        "collapsed": true
      },
      "cell_type": "code",
      "source": "import numpy as np # linear algebra\nimport pandas as pd # data processing, CSV file I/O (e.g. pd.read_csv)\nimport json\n\nimport seaborn as sns\nimport matplotlib.pyplot as plt\n%matplotlib inline\n\n# Get data\n\nmain_df = pd.read_csv('../input/ted_main.csv', encoding='utf-8')\ntranscripts_df = pd.read_csv('../input/transcripts.csv', encoding='utf-8')\n                        \ndf = pd.merge(main_df, transcripts_df, how='inner', on='url')\n\n# Convert views and ratings into score\n\nPOS_LABELS = set(['Funny', 'Beautiful', 'Ingenious', 'Courageous', 'Informative', 'Persuasive', 'Jaw-dropping', 'Inspiring'])\nRATING_WEIGHT = 3\n\ndef positive_rating(labels):\n    labels = json.loads(labels.replace(\"'\", \"\\\"\"))\n    return sum([ x['count'] for x in labels if x['name'] in POS_LABELS ])\n    \ndf['pos_rating'] = df['ratings'].apply(positive_rating)\ndf['score'] = df['views'] + df['pos_rating'] * RATING_WEIGHT\n\n# Get rhetorical devices count\n\nphrase_break = set(['.', ';', '!', '?'])\nconjugation = set(['-', 'for', 'and', 'nor', 'but', 'or', 'yet'])\n\ndef getWord(s, i):\n    word = ''\n    while s[i] not in phrase_break and s[i] not in [' ', ',']:\n        word += s[i]\n        i+= 1\n    return (word.lower(), i)\n\ndef rhetoric_scan(s):\n    if s[-1] not in phrase_break: # add a period if there isn't a sentence ending\n        s += '.'\n\n    i = anaphora_count = epistrophe_count = anadiplosis_count = 0\n    sen_last_starter, sen_start_row = com_last_starter, com_start_row = \\\n        sen_last_ender, sen_end_row = com_last_ender, com_end_row = None, 0\n    new_sen, new_com = True, False\n    word = before_conj = None\n\n    while i < len(s):\n        last_word = word\n        word, i = getWord(s, i)\n        if ((new_sen or new_com) and last_word == word) or (before_conj and before_conj == word):\n            anadiplosis_count += 1\n        before_conj = None\n        if word in conjugation:\n            before_conj = last_word\n        if new_sen:\n            new_sen = False\n            if word != sen_last_starter:\n                sen_last_starter, sen_start_row = com_last_starter, com_start_row = word, 1\n            elif word:\n                sen_start_row += 1\n                if sen_start_row == 2:\n                    anaphora_count += 1\n        elif new_com:\n            new_com = False\n            if word != com_last_starter:\n                com_last_starter, com_start_row = word, 1\n            elif word:\n                com_start_row += 1\n                if com_start_row == 2:\n                    anaphora_count += 1\n        if s[i] in phrase_break:\n            new_sen = True\n            if word == com_last_ender:\n                com_end_row += 1\n                if com_end_row == 2:\n                    epistrophe_count += 1\n            com_last_ender, com_end_row = word, 0\n            if word != sen_last_ender:\n                sen_last_ender, sen_end_row = word, 1\n            elif word:\n                sen_end_row += 1\n                if sen_end_row == 2:\n                    epistrophe_count += 1\n            i += 1\n        elif s[i] == ',':\n            new_com = True\n            if word != com_last_ender:\n                com_last_ender, com_end_row = word, 1\n            elif word:\n                com_end_row += 1\n                if com_end_row == 2:\n                    epistrophe_count += 1\n            i += 1\n        i += 1\n\n    return sum([anaphora_count, epistrophe_count, anadiplosis_count])\n    \ndf['rhetoric'] = df['transcript'].apply(rhetoric_scan)\n\ndf = df.drop(['title', 'description', 'main_speaker', 'num_speaker', 'event', 'film_date', 'published_date', 'comments',\n                'tags', 'languages', 'related_talks', 'duration', 'speaker_occupation', 'ratings', 'views', 'pos_rating',\n                'transcript'], axis=1)",
      "execution_count": null,
      "outputs": []
    },
    {
      "metadata": {
        "_uuid": "03c80f58a549fd61661445f3c82ce9245703bdcc",
        "_cell_guid": "7fb9ac44-e7fc-453b-a2ef-86b105b8fda6"
      },
      "cell_type": "markdown",
      "source": "# Examining the data"
    },
    {
      "metadata": {
        "_uuid": "03540a0192a3d4be2a682a7b4cbd344791110b04",
        "_cell_guid": "91534c18-bfb6-4e4f-a34d-89b937f1e193",
        "trusted": false,
        "collapsed": true
      },
      "cell_type": "code",
      "source": "df.head()",
      "execution_count": null,
      "outputs": []
    },
    {
      "metadata": {
        "_uuid": "13374d26e456aa7bd973265c71685ed5f985b5b5",
        "_cell_guid": "637dd31b-04d0-4d88-984a-2047420ad9fa",
        "trusted": false,
        "collapsed": true
      },
      "cell_type": "code",
      "source": "df.describe()",
      "execution_count": null,
      "outputs": []
    },
    {
      "metadata": {
        "_uuid": "d7ef20183af8223f60bff2f4056a4bf39ebe0fab",
        "_cell_guid": "a8d2e64b-c1d5-4c4e-91f5-cd3ffc90eee5",
        "scrolled": true,
        "trusted": false,
        "collapsed": true
      },
      "cell_type": "code",
      "source": "grid = sns.jointplot(x=\"rhetoric\", y=\"score\", data=df, kind=\"reg\")",
      "execution_count": null,
      "outputs": []
    },
    {
      "metadata": {
        "_uuid": "da2b9aa4629f24e45d462f3e3661ea004c014ed8",
        "_cell_guid": "1b859b60-d945-4f57-a189-2bb624b3996c"
      },
      "cell_type": "markdown",
      "source": "# Conclusion\nThe presence of the rhetorical devices anaphora, epistrophe, and anadiplosis had a minor role in increasing the popularity of a video.\n\nSuggestions appreciated!"
    }
  ],
  "metadata": {
    "language_info": {
      "name": "python",
      "version": "3.6.4",
      "mimetype": "text/x-python",
      "codemirror_mode": {
        "name": "ipython",
        "version": 3
      },
      "pygments_lexer": "ipython3",
      "nbconvert_exporter": "python",
      "file_extension": ".py"
    },
    "kernelspec": {
      "display_name": "Python 3",
      "language": "python",
      "name": "python3"
    }
  },
  "nbformat": 4,
  "nbformat_minor": 1
}